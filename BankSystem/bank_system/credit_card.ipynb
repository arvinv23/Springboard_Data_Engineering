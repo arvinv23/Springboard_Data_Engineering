{
 "cells": [
  {
   "cell_type": "code",
   "execution_count": 7,
   "id": "62b6467e-0309-45c7-bbb9-68f2e134b181",
   "metadata": {},
   "outputs": [
    {
     "ename": "ImportError",
     "evalue": "attempted relative import with no known parent package",
     "output_type": "error",
     "traceback": [
      "\u001b[0;31m---------------------------------------------------------------------------\u001b[0m",
      "\u001b[0;31mImportError\u001b[0m                               Traceback (most recent call last)",
      "Cell \u001b[0;32mIn[7], line 3\u001b[0m\n\u001b[1;32m      1\u001b[0m \u001b[38;5;28;01mimport\u001b[39;00m \u001b[38;5;21;01mlogging\u001b[39;00m\n\u001b[0;32m----> 3\u001b[0m \u001b[38;5;28;01mfrom\u001b[39;00m \u001b[38;5;21;01m.\u001b[39;00m\u001b[38;5;21;01mcustomer\u001b[39;00m \u001b[38;5;28;01mimport\u001b[39;00m Customer\n\u001b[1;32m      5\u001b[0m \u001b[38;5;28;01mclass\u001b[39;00m \u001b[38;5;21;01mCreditCard\u001b[39;00m:\n\u001b[1;32m      6\u001b[0m \u001b[38;5;250m    \u001b[39m\u001b[38;5;124;03m\"\"\"\u001b[39;00m\n\u001b[1;32m      7\u001b[0m \u001b[38;5;124;03m    A class to represent a credit card.\u001b[39;00m\n\u001b[1;32m      8\u001b[0m \u001b[38;5;124;03m    \"\"\"\u001b[39;00m\n",
      "\u001b[0;31mImportError\u001b[0m: attempted relative import with no known parent package"
     ]
    }
   ],
   "source": [
    "import logging\n",
    "\n",
    "from .customer import Customer\n",
    "\n",
    "class CreditCard:\n",
    "    \"\"\"\n",
    "    A class to represent a credit card.\n",
    "    \"\"\"\n",
    "\n",
    "    def __init__(self, card_number, customer, credit_limit, balance=0):\n",
    "        self._card_number = card_number\n",
    "        self._customer = customer\n",
    "        self._credit_limit = credit_limit\n",
    "        self._balance = balance\n",
    "        logging.info(f\"Credit card created: {self._card_number} for {self._customer}\")\n",
    "\n",
    "    @property\n",
    "    def card_number(self):\n",
    "        return self._card_number\n",
    "\n",
    "    @property\n",
    "    def customer(self):\n",
    "        return self._customer\n",
    "\n",
    "    @property\n",
    "    def credit_limit(self):\n",
    "        return self._credit_limit\n",
    "\n",
    "    @property\n",
    "    def balance(self):\n",
    "        return self._balance\n",
    "\n",
    "    def charge(self, amount):\n",
    "        try:\n",
    "            if self._balance + amount > self._credit_limit:\n",
    "                raise ValueError(\"Credit limit exceeded\")\n",
    "            self._balance += amount\n",
    "            logging.info(f\"Charged {amount} to card {self._card_number}, new balance: {self._balance}\")\n",
    "            return self._balance\n",
    "        except ValueError as e:\n",
    "            logging.error(f\"Error charging credit card: {e}\")\n",
    "            print(f\"An error occurred: {e}\")\n",
    "\n",
    "    def make_payment(self, amount):\n",
    "        try:\n",
    "            self._balance -= amount\n",
    "            logging.info(f\"Payment of {amount} made to card {self._card_number}, new balance: {self._balance}\")\n",
    "            return self._balance\n",
    "        except Exception as e:\n",
    "            logging.error(f\"Error making payment: {e}\")\n",
    "            print(f\"An error occurred: {e}\")\n",
    "\n",
    "    def __str__(self):\n",
    "        return f'Card Number: {self._card_number}, Customer: {self._customer}, Balance: {self._balance}, Credit Limit: {self._credit_limit}'\n",
    "\n",
    "# Example usage\n",
    "if __name__ == \"__main__\":\n",
    "    try:\n",
    "        customer = Customer(\"Mike\", \"Ross\", \"123 ABC Street\")\n",
    "        credit_card = CreditCard(\"1234-5678-8765-4321\", customer, 5000)\n",
    "        print(credit_card)\n",
    "        print(f\"Balance after charge: {credit_card.charge(1000)}\")\n",
    "        print(f\"Balance after payment: {credit_card.make_payment(500)}\")\n",
    "    except Exception as e:\n",
    "        logging.error(f\"Error managing credit card: {e}\")\n",
    "        print(f\"An error occurred: {e}\")\n"
   ]
  },
  {
   "cell_type": "code",
   "execution_count": null,
   "id": "258fc97b-173e-4e69-979d-bb9b1c4d1b33",
   "metadata": {},
   "outputs": [],
   "source": []
  }
 ],
 "metadata": {
  "kernelspec": {
   "display_name": "Python 3 (ipykernel)",
   "language": "python",
   "name": "python3"
  },
  "language_info": {
   "codemirror_mode": {
    "name": "ipython",
    "version": 3
   },
   "file_extension": ".py",
   "mimetype": "text/x-python",
   "name": "python",
   "nbconvert_exporter": "python",
   "pygments_lexer": "ipython3",
   "version": "3.11.7"
  }
 },
 "nbformat": 4,
 "nbformat_minor": 5
}
