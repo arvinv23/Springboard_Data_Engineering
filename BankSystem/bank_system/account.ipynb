{
 "cells": [
  {
   "cell_type": "code",
   "execution_count": 1,
   "id": "4e26c449",
   "metadata": {},
   "outputs": [
    {
     "name": "stdout",
     "output_type": "stream",
     "text": [
      "Account Type: Checking, Balance: 100\n",
      "Balance after deposit: 150\n",
      "Balance after withdrawal: 120\n"
     ]
    }
   ],
   "source": [
    "import logging\n",
    "\n",
    "class Account:\n",
    "    \"\"\"\n",
    "    A class to represent a bank account.\n",
    "    \"\"\"\n",
    "\n",
    "    def __init__(self, account_type, balance=0):\n",
    "        self._account_type = account_type\n",
    "        self._balance = balance\n",
    "        logging.info(f\"Account created: {self._account_type} with balance {self._balance}\")\n",
    "\n",
    "    @property\n",
    "    def account_type(self):\n",
    "        return self._account_type\n",
    "\n",
    "    @property\n",
    "    def balance(self):\n",
    "        return self._balance\n",
    "\n",
    "    def deposit(self, amount):\n",
    "        try:\n",
    "            if amount < 0:\n",
    "                raise ValueError(\"Deposit amount must be positive\")\n",
    "            self._balance += amount\n",
    "            logging.info(f\"Deposited {amount} into {self._account_type} account, new balance: {self._balance}\")\n",
    "            return self._balance\n",
    "        except ValueError as e:\n",
    "            logging.error(f\"Error depositing into account: {e}\")\n",
    "            print(f\"An error occurred: {e}\")\n",
    "\n",
    "    def withdraw(self, amount):\n",
    "        try:\n",
    "            if amount > self._balance:\n",
    "                raise ValueError(\"Insufficient funds\")\n",
    "            self._balance -= amount\n",
    "            logging.info(f\"Withdrew {amount} from {self._account_type} account, new balance: {self._balance}\")\n",
    "            return self._balance\n",
    "        except ValueError as e:\n",
    "            logging.error(f\"Error withdrawing from account: {e}\")\n",
    "            print(f\"An error occurred: {e}\")\n",
    "\n",
    "    def __str__(self):\n",
    "        return f'Account Type: {self._account_type}, Balance: {self._balance}'\n",
    "\n",
    "# Example usage\n",
    "if __name__ == \"__main__\":\n",
    "    try:\n",
    "        account = Account(\"Checking\", 100)\n",
    "        print(account)\n",
    "        print(f\"Balance after deposit: {account.deposit(50)}\")\n",
    "        print(f\"Balance after withdrawal: {account.withdraw(30)}\")\n",
    "    except Exception as e:\n",
    "        logging.error(f\"Error managing account: {e}\")\n",
    "        print(f\"An error occurred: {e}\")\n"
   ]
  },
  {
   "cell_type": "code",
   "execution_count": null,
   "id": "9759eb9d-39de-4ce7-9a7e-5195f0fd8110",
   "metadata": {},
   "outputs": [],
   "source": []
  }
 ],
 "metadata": {
  "kernelspec": {
   "display_name": "Python 3 (ipykernel)",
   "language": "python",
   "name": "python3"
  },
  "language_info": {
   "codemirror_mode": {
    "name": "ipython",
    "version": 3
   },
   "file_extension": ".py",
   "mimetype": "text/x-python",
   "name": "python",
   "nbconvert_exporter": "python",
   "pygments_lexer": "ipython3",
   "version": "3.11.7"
  }
 },
 "nbformat": 4,
 "nbformat_minor": 5
}
