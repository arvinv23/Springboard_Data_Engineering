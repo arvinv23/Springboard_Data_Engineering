{
 "cells": [
  {
   "cell_type": "code",
   "execution_count": 6,
   "id": "bfc72fbd-37b1-4776-8054-acd7ec88dbf2",
   "metadata": {},
   "outputs": [
    {
     "name": "stdout",
     "output_type": "stream",
     "text": [
      "Loan ID: L001, Amount: 10000, Interest Rate: 5%, Term: 10 years\n",
      "Total interest: 5000.0\n"
     ]
    }
   ],
   "source": [
    "import logging\n",
    "\n",
    "class Loan:\n",
    "    \"\"\"\n",
    "    A class to represent a loan.\n",
    "    \"\"\"\n",
    "\n",
    "    def __init__(self, loan_id, customer, amount, interest_rate, term):\n",
    "        self._loan_id = loan_id\n",
    "        self._customer = customer\n",
    "        self._amount = amount\n",
    "        self._interest_rate = interest_rate\n",
    "        self._term = term\n",
    "        logging.info(f\"Loan created: ID {self._loan_id}, Amount: {self._amount}, Customer: {self._customer}\")\n",
    "\n",
    "    @property\n",
    "    def loan_id(self):\n",
    "        return self._loan_id\n",
    "\n",
    "    @property\n",
    "    def customer(self):\n",
    "        return self._customer\n",
    "\n",
    "    @property\n",
    "    def amount(self):\n",
    "        return self._amount\n",
    "\n",
    "    @property\n",
    "    def interest_rate(self):\n",
    "        return self._interest_rate\n",
    "\n",
    "    @property\n",
    "    def term(self):\n",
    "        return self._term\n",
    "\n",
    "    def calculate_interest(self):\n",
    "        try:\n",
    "            interest = (self._amount * self._interest_rate * self._term) / 100\n",
    "            logging.info(f\"Calculated interest for loan {self._loan_id}: {interest}\")\n",
    "            return interest\n",
    "        except Exception as e:\n",
    "            logging.error(f\"Error calculating interest: {e}\")\n",
    "            print(f\"An error occurred: {e}\")\n",
    "\n",
    "    def __str__(self):\n",
    "        return f'Loan ID: {self._loan_id}, Amount: {self._amount}, Interest Rate: {self._interest_rate}%, Term: {self._term} years'\n",
    "\n",
    "# Example usage\n",
    "if __name__ == \"__main__\":\n",
    "    try:\n",
    "        customer = Customer(\"Mike\", \"Ross\", \"123 ABC Street\")\n",
    "        loan = Loan(\"L001\", customer, 10000, 5, 10)\n",
    "        print(loan)\n",
    "        print(f\"Total interest: {loan.calculate_interest()}\")\n",
    "    except Exception as e:\n",
    "        logging.error(f\"Error managing loan: {e}\")\n",
    "        print(f\"An error occurred: {e}\")"
   ]
  },
  {
   "cell_type": "code",
   "execution_count": null,
   "id": "a1a8a22c-dcb7-4961-9d90-86665ec7e75a",
   "metadata": {},
   "outputs": [],
   "source": []
  }
 ],
 "metadata": {
  "kernelspec": {
   "display_name": "Python 3 (ipykernel)",
   "language": "python",
   "name": "python3"
  },
  "language_info": {
   "codemirror_mode": {
    "name": "ipython",
    "version": 3
   },
   "file_extension": ".py",
   "mimetype": "text/x-python",
   "name": "python",
   "nbconvert_exporter": "python",
   "pygments_lexer": "ipython3",
   "version": "3.11.7"
  }
 },
 "nbformat": 4,
 "nbformat_minor": 5
}
