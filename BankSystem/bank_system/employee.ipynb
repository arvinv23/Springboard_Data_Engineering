{
 "cells": [
  {
   "cell_type": "code",
   "execution_count": 1,
   "id": "4ced19b7-cf1f-41e4-9e76-978e0ec45359",
   "metadata": {},
   "outputs": [
    {
     "name": "stdout",
     "output_type": "stream",
     "text": [
      "Employee ID: 123, Name: Mike Ross, Position: Manager\n"
     ]
    }
   ],
   "source": [
    "import logging\n",
    "\n",
    "class Employee:\n",
    "    \"\"\"\n",
    "    A class to represent a bank employee.\n",
    "    \"\"\"\n",
    "\n",
    "    def __init__(self, employee_id, name, position):\n",
    "        self._employee_id = employee_id\n",
    "        self._name = name\n",
    "        self._position = position\n",
    "        logging.info(f\"Employee created: {self._name}, Position: {self._position}\")\n",
    "\n",
    "    @property\n",
    "    def employee_id(self):\n",
    "        return self._employee_id\n",
    "\n",
    "    @property\n",
    "    def name(self):\n",
    "        return self._name\n",
    "\n",
    "    @property\n",
    "    def position(self):\n",
    "        return self._position\n",
    "\n",
    "    def __str__(self):\n",
    "        return f'Employee ID: {self._employee_id}, Name: {self._name}, Position: {self._position}'\n",
    "\n",
    "# Example usage\n",
    "if __name__ == \"__main__\":\n",
    "    try:\n",
    "        employee = Employee(\"123\", \"Mike Ross\", \"Manager\")\n",
    "        print(employee)\n",
    "    except Exception as e:\n",
    "        logging.error(f\"Error creating employee: {e}\")\n",
    "        print(f\"An error occurred: {e}\")\n"
   ]
  },
  {
   "cell_type": "code",
   "execution_count": null,
   "id": "aef6642f-95d7-4660-94c5-fccac9bc3e8e",
   "metadata": {},
   "outputs": [],
   "source": []
  }
 ],
 "metadata": {
  "kernelspec": {
   "display_name": "Python 3 (ipykernel)",
   "language": "python",
   "name": "python3"
  },
  "language_info": {
   "codemirror_mode": {
    "name": "ipython",
    "version": 3
   },
   "file_extension": ".py",
   "mimetype": "text/x-python",
   "name": "python",
   "nbconvert_exporter": "python",
   "pygments_lexer": "ipython3",
   "version": "3.11.7"
  }
 },
 "nbformat": 4,
 "nbformat_minor": 5
}
