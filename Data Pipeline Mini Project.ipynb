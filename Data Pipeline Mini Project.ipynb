{
 "cells": [
  {
   "cell_type": "code",
   "execution_count": 3,
   "id": "4f58e63e",
   "metadata": {},
   "outputs": [
    {
     "name": "stdout",
     "output_type": "stream",
     "text": [
      "Collecting mysql-connector-python\n",
      "  Downloading mysql_connector_python-9.0.0-cp311-cp311-macosx_13_0_arm64.whl.metadata (2.0 kB)\n",
      "Downloading mysql_connector_python-9.0.0-cp311-cp311-macosx_13_0_arm64.whl (13.4 MB)\n",
      "\u001b[2K   \u001b[90m━━━━━━━━━━━━━━━━━━━━━━━━━━━━━━━━━━━━━━━━\u001b[0m \u001b[32m13.4/13.4 MB\u001b[0m \u001b[31m21.2 MB/s\u001b[0m eta \u001b[36m0:00:00\u001b[0m00:01\u001b[0m00:01\u001b[0m\n",
      "\u001b[?25hInstalling collected packages: mysql-connector-python\n",
      "Successfully installed mysql-connector-python-9.0.0\n",
      "Note: you may need to restart the kernel to use updated packages.\n"
     ]
    }
   ],
   "source": [
    "pip install mysql-connector-python"
   ]
  },
  {
   "cell_type": "code",
   "execution_count": 4,
   "id": "d9fb1693",
   "metadata": {},
   "outputs": [],
   "source": [
    "import mysql.connector\n",
    "import csv"
   ]
  },
  {
   "cell_type": "code",
   "execution_count": 1,
   "id": "759b72b6",
   "metadata": {},
   "outputs": [],
   "source": [
    "def get_db_connection():\n",
    "    connection = None\n",
    "    try:\n",
    "        connection = mysql.connector.connect(user='root',\n",
    "                                             password='Daringscape3#',\n",
    "                                             host='localhost',\n",
    "                                             port='3306',\n",
    "                                             database='DE_database')\n",
    "    except Exception as error:\n",
    "        print(\"Error while connecting to database for job tracker\", error)\n",
    "    return connection"
   ]
  },
  {
   "cell_type": "code",
   "execution_count": 3,
   "id": "780ad82a",
   "metadata": {},
   "outputs": [],
   "source": [
    "class TicketSystem:\n",
    "    def __init__(self, user, password, host, port, database):\n",
    "        self.user = user\n",
    "        self.password = password\n",
    "        self.host = host\n",
    "        self.port = port\n",
    "        self.database = database\n",
    "        self.connection = None\n",
    "\n",
    "    def get_db_connection(self):\n",
    "        try:\n",
    "            self.connection = mysql.connector.connect(\n",
    "                user=self.user,\n",
    "                password=self.password,\n",
    "                host=self.host,\n",
    "                port=self.port,\n",
    "                database=self.database\n",
    "            )\n",
    "        except Exception as error:\n",
    "            print(\"Error while connecting to database:\", error)\n",
    "        return self.connection"
   ]
  },
  {
   "cell_type": "code",
   "execution_count": 4,
   "id": "7718f4a7",
   "metadata": {},
   "outputs": [],
   "source": [
    "class TicketSystem:\n",
    "    # ...\n",
    "\n",
    "    def load_third_party(self, file_path_csv):\n",
    "        try:\n",
    "            connection = self.get_db_connection()\n",
    "            cursor = connection.cursor()\n",
    "\n",
    "            with open(file_path_csv, 'r') as file:\n",
    "                csv_data = csv.reader(file)\n",
    "                next(csv_data)  # Skip header row\n",
    "                for row in csv_data:\n",
    "                    sql = \"INSERT INTO sales (ticket_id, trans_date, event_id, event_name, event_date, event_type, event_city, customer_id, price, num_tickets) \" \\\n",
    "                          \"VALUES (%s, %s, %s, %s, %s, %s, %s, %s, %s, %s)\"\n",
    "                    cursor.execute(sql, row)\n",
    "\n",
    "            connection.commit()\n",
    "            cursor.close()\n",
    "            connection.close()\n",
    "            print(\"Data loaded successfully.\")\n",
    "        except Exception as error:\n",
    "            print(\"Error while loading data:\", error)"
   ]
  },
  {
   "cell_type": "code",
   "execution_count": 5,
   "id": "4415a1c4",
   "metadata": {},
   "outputs": [],
   "source": [
    "from datetime import datetime, timedelta\n",
    "\n",
    "class TicketSystem:\n",
    "    # ...\n",
    "\n",
    "    def query_popular_tickets(self):\n",
    "        try:\n",
    "            connection = self.get_db_connection()\n",
    "            cursor = connection.cursor()\n",
    "\n",
    "            # Get the date one month ago\n",
    "            one_month_ago = datetime.now() - timedelta(days=30)\n",
    "            sql = \"SELECT event_name, SUM(num_tickets) as total_tickets_sold \" \\\n",
    "                  \"FROM sales \" \\\n",
    "                  \"WHERE date(trans_date) >= %s \" \\\n",
    "                  \"GROUP BY event_name \" \\\n",
    "                  \"ORDER BY total_tickets_sold DESC \" \\\n",
    "                  \"LIMIT 3\"\n",
    "            cursor.execute(sql, (one_month_ago,))\n",
    "            records = cursor.fetchall()\n",
    "\n",
    "            cursor.close()\n",
    "            connection.close()\n",
    "            return records\n",
    "        except Exception as error:\n",
    "            print(\"Error while querying data:\", error)"
   ]
  },
  {
   "cell_type": "code",
   "execution_count": 6,
   "id": "0f345570",
   "metadata": {},
   "outputs": [],
   "source": [
    "class TicketSystem:\n",
    "    # ...\n",
    "\n",
    "    def display_popular_tickets(self):\n",
    "        records = self.query_popular_tickets()\n",
    "        if records:\n",
    "            print(\"Here are the most popular tickets in the past month:\")\n",
    "            for record in records:\n",
    "                print(f\"- {record[0]}\")\n",
    "        else:\n",
    "            print(\"No popular tickets found.\")"
   ]
  },
  {
   "cell_type": "code",
   "execution_count": 7,
   "id": "14789898",
   "metadata": {},
   "outputs": [
    {
     "ename": "TypeError",
     "evalue": "TicketSystem() takes no arguments",
     "output_type": "error",
     "traceback": [
      "\u001b[0;31m---------------------------------------------------------------------------\u001b[0m",
      "\u001b[0;31mTypeError\u001b[0m                                 Traceback (most recent call last)",
      "Cell \u001b[0;32mIn[7], line 1\u001b[0m\n\u001b[0;32m----> 1\u001b[0m ticket_system \u001b[38;5;241m=\u001b[39m TicketSystem(user\u001b[38;5;241m=\u001b[39m\u001b[38;5;124m'\u001b[39m\u001b[38;5;124mroot\u001b[39m\u001b[38;5;124m'\u001b[39m, password\u001b[38;5;241m=\u001b[39m\u001b[38;5;124m'\u001b[39m\u001b[38;5;124mDaringscape3#\u001b[39m\u001b[38;5;124m'\u001b[39m, host\u001b[38;5;241m=\u001b[39m\u001b[38;5;124m'\u001b[39m\u001b[38;5;124mlocalhost\u001b[39m\u001b[38;5;124m'\u001b[39m, port\u001b[38;5;241m=\u001b[39m\u001b[38;5;124m'\u001b[39m\u001b[38;5;124m3306\u001b[39m\u001b[38;5;124m'\u001b[39m, database\u001b[38;5;241m=\u001b[39m\u001b[38;5;124m'\u001b[39m\u001b[38;5;124mDE_database\u001b[39m\u001b[38;5;124m'\u001b[39m)\n\u001b[1;32m      2\u001b[0m ticket_system\u001b[38;5;241m.\u001b[39mload_third_party(\u001b[38;5;124m'\u001b[39m\u001b[38;5;124mthird_party_sales_1.csv\u001b[39m\u001b[38;5;124m'\u001b[39m)\n\u001b[1;32m      3\u001b[0m ticket_system\u001b[38;5;241m.\u001b[39mdisplay_popular_tickets()\n",
      "\u001b[0;31mTypeError\u001b[0m: TicketSystem() takes no arguments"
     ]
    }
   ],
   "source": [
    "ticket_system = TicketSystem(user='root', password='Daringscape3#', host='localhost', port='3306', database='DE_database')\n",
    "ticket_system.load_third_party('third_party_sales_1.csv')\n",
    "ticket_system.display_popular_tickets()"
   ]
  },
  {
   "cell_type": "code",
   "execution_count": null,
   "id": "784127fc",
   "metadata": {},
   "outputs": [],
   "source": []
  }
 ],
 "metadata": {
  "kernelspec": {
   "display_name": "Python 3 (ipykernel)",
   "language": "python",
   "name": "python3"
  },
  "language_info": {
   "codemirror_mode": {
    "name": "ipython",
    "version": 3
   },
   "file_extension": ".py",
   "mimetype": "text/x-python",
   "name": "python",
   "nbconvert_exporter": "python",
   "pygments_lexer": "ipython3",
   "version": "3.11.7"
  }
 },
 "nbformat": 4,
 "nbformat_minor": 5
}
